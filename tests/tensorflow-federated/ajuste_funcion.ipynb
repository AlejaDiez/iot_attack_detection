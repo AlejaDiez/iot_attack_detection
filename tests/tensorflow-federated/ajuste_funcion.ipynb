{
 "cells": [
  {
   "cell_type": "code",
   "execution_count": null,
   "metadata": {
    "id": "YmPxLU84tlqM"
   },
   "outputs": [],
   "source": [
    "NUM_CLIENTS = 10\n",
    "POINTS_PER_CLIENT = 240\n",
    "BATCH_SIZE = 40\n",
    "ROUNDS = 20\n",
    "EPOCHS = 32\n",
    "CLIENT_LEARNING_RATE = 0.01\n",
    "SERVER_LEARNING_RATE = 0.1"
   ]
  },
  {
   "cell_type": "markdown",
   "metadata": {
    "id": "_F2Yj7ZU5euD"
   },
   "source": [
    "# Instalaciones e importaciones"
   ]
  },
  {
   "cell_type": "code",
   "execution_count": null,
   "metadata": {
    "colab": {
     "base_uri": "https://localhost:8080/"
    },
    "collapsed": true,
    "executionInfo": {
     "elapsed": 1929,
     "status": "ok",
     "timestamp": 1737046022760,
     "user": {
      "displayName": "Alejandro Diez Bermejo",
      "userId": "17100791736681062169"
     },
     "user_tz": -60
    },
    "id": "x5ihtSDa44nl",
    "outputId": "d51efcad-9801-4dd4-83c1-73e34cbcbbd1"
   },
   "outputs": [],
   "source": [
    "!pip install --upgrade tensorflow-federated"
   ]
  },
  {
   "cell_type": "code",
   "execution_count": 2,
   "metadata": {
    "colab": {
     "base_uri": "https://localhost:8080/"
    },
    "executionInfo": {
     "elapsed": 4712,
     "status": "ok",
     "timestamp": 1737046027468,
     "user": {
      "displayName": "Alejandro Diez Bermejo",
      "userId": "17100791736681062169"
     },
     "user_tz": -60
    },
    "id": "HKcHDu9h6vPs",
    "outputId": "e19e0e22-f561-4e5d-919f-b309ab457160"
   },
   "outputs": [
    {
     "name": "stdout",
     "output_type": "stream",
     "text": [
      "Tensorflow version: 2.14.1\n",
      "TFF version: 0.87.0\n"
     ]
    }
   ],
   "source": [
    "import collections\n",
    "\n",
    "import tensorflow as tf\n",
    "import tensorflow_federated as tff\n",
    "import numpy as np\n",
    "import matplotlib.pyplot as plt\n",
    "\n",
    "print(f\"Tensorflow version: {tf.__version__}\")\n",
    "print(f\"TFF version: {tff.__version__}\")"
   ]
  },
  {
   "cell_type": "markdown",
   "metadata": {
    "id": "-mKmZFrN7kO3"
   },
   "source": [
    "# Lectura de datos"
   ]
  },
  {
   "cell_type": "code",
   "execution_count": null,
   "metadata": {
    "id": "96BDqWNYgHXa"
   },
   "outputs": [],
   "source": [
    "def fn(x):\n",
    "    return (-x * (x - 6) * x) + (30 * np.sin(3 * x))"
   ]
  },
  {
   "cell_type": "code",
   "execution_count": null,
   "metadata": {
    "id": "CwCy4U5N7jpa"
   },
   "outputs": [],
   "source": [
    "def create_dataset(num_clients=NUM_CLIENTS, points_per_client=100, batch_size=BATCH_SIZE):\n",
    "    # Generar puntos\n",
    "    X = np.linspace(-10.0, 10.0, num_clients * points_per_client)\n",
    "    # Generamos las etiquetas\n",
    "    y = fn(X)\n",
    "    # Crear un dataset de tuplas (x, y)\n",
    "    X_tensor = tf.reshape(tf.convert_to_tensor(X, dtype=tf.float32), [-1, 1])\n",
    "    y_tensor = tf.reshape(tf.convert_to_tensor(y, dtype=tf.float32), [-1, 1])\n",
    "    dataset = tf.data.Dataset.from_tensor_slices((X_tensor, y_tensor))\n",
    "    # Mezclamos los puntos\n",
    "    dataset = dataset.shuffle(num_clients * points_per_client, 0)\n",
    "\n",
    "    # Dividir el dataset en diferentes clientes\n",
    "    client_datasets = []\n",
    "    for i in range(num_clients):\n",
    "        # Tomamos el subconjunto de datos para cada cliente\n",
    "        client_data = dataset.skip(i * points_per_client).take(points_per_client)\n",
    "        # Crear un dataset para cada cliente y agregarlo a la lista\n",
    "        client_dataset = client_data.batch(batch_size)\n",
    "        client_datasets.append(client_dataset)\n",
    "    return client_datasets\n",
    "\n",
    "train = create_dataset(points_per_client=POINTS_PER_CLIENT)"
   ]
  },
  {
   "cell_type": "markdown",
   "metadata": {
    "id": "9POjCP87v_XB"
   },
   "source": [
    "# Generar modelo de Tensorflow y adaptarlo para Tensorflow Federated"
   ]
  },
  {
   "cell_type": "code",
   "execution_count": 4,
   "metadata": {
    "executionInfo": {
     "elapsed": 159,
     "status": "ok",
     "timestamp": 1737046056754,
     "user": {
      "displayName": "Alejandro Diez Bermejo",
      "userId": "17100791736681062169"
     },
     "user_tz": -60
    },
    "id": "ojZdPwHwv_Gp"
   },
   "outputs": [],
   "source": [
    "def create_keras_model(weights=None):\n",
    "    initializer = tf.keras.initializers.GlorotNormal(seed=0)\n",
    "    model = tf.keras.models.Sequential([\n",
    "        tf.keras.layers.Input(shape=(1,)),\n",
    "        tf.keras.layers.Dense(5, activation='relu', initializer=initializer),\n",
    "        tf.keras.layers.Dense(10, activation='relu', initializer=initializer),\n",
    "        tf.keras.layers.Dense(1, initializer=initializer)\n",
    "    ])\n",
    "    if weights is not None:\n",
    "        model.compile(\n",
    "            loss=tf.keras.losses.MeanSquaredError(),\n",
    "            metrics=[tf.keras.metrics.MeanAbsoluteError()]\n",
    "        )\n",
    "        weights.assign_weights_to(model)\n",
    "    return model"
   ]
  },
  {
   "cell_type": "code",
   "execution_count": null,
   "metadata": {
    "id": "xuwwhQpkx320"
   },
   "outputs": [],
   "source": [
    "def create_federated_keras_model():\n",
    "    model = create_keras_model()\n",
    "    return tff.learning.models.functional_model_from_keras(\n",
    "        model,\n",
    "        loss_fn=tf.keras.losses.MeanSquaredError(),\n",
    "        input_spec=train[0].element_spec,\n",
    "        metrics_constructor=collections.OrderedDict(\n",
    "            mae=tf.keras.metrics.MeanAbsoluteError\n",
    "        )\n",
    "    )"
   ]
  },
  {
   "cell_type": "code",
   "execution_count": null,
   "metadata": {
    "id": "fxpcYFstyNL3"
   },
   "outputs": [],
   "source": [
    "model = create_federated_keras_model()"
   ]
  },
  {
   "cell_type": "markdown",
   "metadata": {
    "id": "mT4ITUDN0KxZ"
   },
   "source": [
    "# Fase de inicialización del algoritmo"
   ]
  },
  {
   "cell_type": "code",
   "execution_count": null,
   "metadata": {
    "id": "ZiF4RjI_0KgQ"
   },
   "outputs": [],
   "source": [
    "@tff.tensorflow.computation\n",
    "def server_init():\n",
    "    return tff.learning.models.ModelWeights(*model.initial_weights)\n",
    "\n",
    "@tff.federated_computation\n",
    "def initialize_fn():\n",
    "    return tff.federated_eval(server_init, tff.SERVER)"
   ]
  },
  {
   "cell_type": "markdown",
   "metadata": {
    "id": "rdFQWA8PyrDZ"
   },
   "source": [
    "# Construir el algoritmo de aprendizaje federado"
   ]
  },
  {
   "cell_type": "markdown",
   "metadata": {
    "id": "OtOUYBt8y0G7"
   },
   "source": [
    "Esta formado por cuatro partes principales\n",
    "\n",
    "* **Server-to-client broadcast**: paso de los pesos del modelo de la parte del servidor a los clientes\n",
    "* **Client update**: actualizar el modelo en cada cliente, con sus datos personales.\n",
    "* **Client-to-server upload**: paso de los pesos de los modelos locales del cliente al servidor para que se realize una media de los pesos de cada uno de los modelos.\n",
    "* **Server update**: actualización del modelo del servidor mediante la media de los pesos realizada."
   ]
  },
  {
   "cell_type": "markdown",
   "metadata": {
    "id": "w3lsW4Hfcipu"
   },
   "source": [
    "## Obtener tipos de los datos"
   ]
  },
  {
   "cell_type": "code",
   "execution_count": null,
   "metadata": {
    "colab": {
     "base_uri": "https://localhost:8080/"
    },
    "executionInfo": {
     "elapsed": 448,
     "status": "ok",
     "timestamp": 1736634197740,
     "user": {
      "displayName": "Alejandro Diez Bermejo",
      "userId": "17100791736681062169"
     },
     "user_tz": -60
    },
    "id": "0GJd_Av-4Pp5",
    "outputId": "eed671c4-370a-4aa7-e048-5ee2cba6c922"
   },
   "outputs": [
    {
     "name": "stdout",
     "output_type": "stream",
     "text": [
      "Dataset type: <float32[?,1],float32[?,1]>*\n",
      "Model weights type: <trainable=<float32[1,5],float32[5],float32[5,10],float32[10],float32[10,1],float32[1]>,non_trainable=<>>\n"
     ]
    }
   ],
   "source": [
    "dataset_type = tff.SequenceType(tff.types.tensorflow_to_type(model.input_spec))\n",
    "model_weights_type = server_init.type_signature.result\n",
    "\n",
    "print(f\"Dataset type: {dataset_type}\")\n",
    "print(f\"Model weights type: {model_weights_type}\")"
   ]
  },
  {
   "cell_type": "code",
   "execution_count": null,
   "metadata": {
    "colab": {
     "base_uri": "https://localhost:8080/"
    },
    "executionInfo": {
     "elapsed": 1,
     "status": "ok",
     "timestamp": 1736634197740,
     "user": {
      "displayName": "Alejandro Diez Bermejo",
      "userId": "17100791736681062169"
     },
     "user_tz": -60
    },
    "id": "P5EonJxncoqj",
    "outputId": "69445834-476a-48f3-a9cd-36662218ef60"
   },
   "outputs": [
    {
     "name": "stdout",
     "output_type": "stream",
     "text": [
      "Federated client type: {<float32[?,1],float32[?,1]>*}@CLIENTS\n",
      "Federated server type: <trainable=<float32[1,5],float32[5],float32[5,10],float32[10],float32[10,1],float32[1]>,non_trainable=<>>@SERVER\n"
     ]
    }
   ],
   "source": [
    "federated_client_type = tff.FederatedType(dataset_type, tff.CLIENTS)\n",
    "federated_server_type = tff.FederatedType(model_weights_type, tff.SERVER)\n",
    "\n",
    "print(f\"Federated client type: {federated_client_type}\")\n",
    "print(f\"Federated server type: {federated_server_type}\")"
   ]
  },
  {
   "cell_type": "markdown",
   "metadata": {
    "id": "Lz1cHyLcc9EB"
   },
   "source": [
    "## Actualización del modelo del cliente"
   ]
  },
  {
   "cell_type": "code",
   "execution_count": null,
   "metadata": {
    "id": "UL7OYnWkyq20"
   },
   "outputs": [],
   "source": [
    "@tf.function\n",
    "def client_update(model, dataset, server_weights, client_optimizer):\n",
    "    client_weights = server_weights.trainable\n",
    "    optimizer_state = client_optimizer.initialize(tf.nest.map_structure(tf.TensorSpec.from_tensor, client_weights))\n",
    "\n",
    "    for _ in range(EPOCHS):\n",
    "        for x, y in dataset:\n",
    "            with tf.GradientTape() as tape:\n",
    "                tape.watch(client_weights)\n",
    "                # Hacer la predicción en el lote de datos\n",
    "                outputs = model.predict_on_batch(model_weights=(client_weights, ()), x=x, training=True)\n",
    "                loss = model.loss(output=outputs, label=y)\n",
    "            # Calcular el gradiente\n",
    "            grads = tape.gradient(loss, client_weights)\n",
    "            optimizer_state, client_weights = client_optimizer.next(optimizer_state, weights=client_weights, gradients=grads)\n",
    "    return tff.learning.models.ModelWeights(client_weights, non_trainable=())\n",
    "\n",
    "@tff.tensorflow.computation(dataset_type, model_weights_type)\n",
    "def client_update_fn(dataset, server_weights):\n",
    "    # build_adam\n",
    "    client_optimizer = tff.learning.optimizers.build_sgdm(learning_rate=CLIENT_LEARNING_RATE)\n",
    "    return client_update(model, dataset, server_weights, client_optimizer)"
   ]
  },
  {
   "cell_type": "markdown",
   "metadata": {
    "id": "nN06ZFZRdBu0"
   },
   "source": [
    "## Actualización del modelo del servidor"
   ]
  },
  {
   "cell_type": "code",
   "execution_count": null,
   "metadata": {
    "id": "dgRmbb8B0tTd"
   },
   "outputs": [],
   "source": [
    "@tf.function\n",
    "def server_update(model, mean_client_weights, server_optimizer):\n",
    "    updated_weights = mean_client_weights.trainable\n",
    "    optimizer_state = server_optimizer.initialize(tf.nest.map_structure(tf.TensorSpec.from_tensor, updated_weights))\n",
    "    for _ in range(1):\n",
    "        negative_weights_delta = tf.nest.map_structure(lambda w: -1.0 * w, updated_weights)\n",
    "        optimizer_state, updated_weights = server_optimizer.next(optimizer_state, updated_weights, negative_weights_delta)\n",
    "    return tff.learning.models.ModelWeights(updated_weights, non_trainable=())\n",
    "\n",
    "@tff.tensorflow.computation(model_weights_type)\n",
    "def server_update_fn(mean_client_weights):\n",
    "    server_optimizer = tff.learning.optimizers.build_sgdm(learning_rate=SERVER_LEARNING_RATE)\n",
    "    return server_update(model, mean_client_weights, server_optimizer)"
   ]
  },
  {
   "cell_type": "markdown",
   "metadata": {
    "id": "JN2LCQ4e6uyl"
   },
   "source": [
    "# Fase de actualización del algoritmo"
   ]
  },
  {
   "cell_type": "code",
   "execution_count": null,
   "metadata": {
    "id": "WrboHdII0SjY"
   },
   "outputs": [],
   "source": [
    "@tff.federated_computation(federated_server_type, federated_client_type)\n",
    "def next_fn(server_weights, dataset):\n",
    "    # Broadcast the server weights to the clients.\n",
    "    server_weights_at_client = tff.federated_broadcast(server_weights)\n",
    "\n",
    "    # Each client computes their updated weights.\n",
    "    client_weights = tff.federated_map(client_update_fn, (dataset, server_weights_at_client))\n",
    "\n",
    "    # The server averages these updates.\n",
    "    mean_client_weights = tff.federated_mean(client_weights)\n",
    "\n",
    "    # The server updates its model.\n",
    "    server_weights = tff.federated_map(server_update_fn, mean_client_weights)\n",
    "\n",
    "    return server_weights"
   ]
  },
  {
   "cell_type": "markdown",
   "metadata": {
    "id": "OQhSU4ea7O7U"
   },
   "source": [
    "# Fase de entrenamiento del algoritmo"
   ]
  },
  {
   "cell_type": "code",
   "execution_count": null,
   "metadata": {
    "colab": {
     "background_save": true
    },
    "id": "aC1h7CM27To5",
    "outputId": "1c556ddd-4595-401a-fd6f-6ea23cd56ab8"
   },
   "outputs": [
    {
     "name": "stdout",
     "output_type": "stream",
     "text": [
      "4/4 [==============================] - 0s 5ms/step - loss: 36351.2539 - mean_absolute_error: 151.3446\n",
      "Ronda de entrenamiento 1 completada.\n",
      "4/4 [==============================] - 0s 5ms/step - loss: 29686.6895 - mean_absolute_error: 136.4503\n",
      "Ronda de entrenamiento 2 completada.\n",
      "4/4 [==============================] - 0s 4ms/step - loss: 23035.6309 - mean_absolute_error: 118.3109\n",
      "Ronda de entrenamiento 3 completada.\n",
      "4/4 [==============================] - 0s 4ms/step - loss: 17676.6680 - mean_absolute_error: 105.6571\n",
      "Ronda de entrenamiento 4 completada.\n",
      "4/4 [==============================] - 0s 4ms/step - loss: 13408.3477 - mean_absolute_error: 94.4455\n",
      "Ronda de entrenamiento 5 completada.\n",
      "4/4 [==============================] - 0s 4ms/step - loss: 9815.0303 - mean_absolute_error: 80.6039\n",
      "Ronda de entrenamiento 6 completada.\n",
      "4/4 [==============================] - 0s 5ms/step - loss: 7359.1963 - mean_absolute_error: 70.6305\n",
      "Ronda de entrenamiento 7 completada.\n",
      "4/4 [==============================] - 0s 4ms/step - loss: 5946.6143 - mean_absolute_error: 61.5579\n",
      "Ronda de entrenamiento 8 completada.\n",
      "4/4 [==============================] - 0s 4ms/step - loss: 5261.7886 - mean_absolute_error: 56.3242\n",
      "Ronda de entrenamiento 9 completada.\n",
      "4/4 [==============================] - 0s 4ms/step - loss: 4471.8364 - mean_absolute_error: 51.1912\n",
      "Ronda de entrenamiento 10 completada.\n",
      "4/4 [==============================] - 0s 4ms/step - loss: 3866.9573 - mean_absolute_error: 48.2222\n",
      "Ronda de entrenamiento 11 completada.\n",
      "4/4 [==============================] - 0s 5ms/step - loss: 3649.2156 - mean_absolute_error: 46.7299\n",
      "Ronda de entrenamiento 12 completada.\n",
      "4/4 [==============================] - 0s 4ms/step - loss: 3508.3274 - mean_absolute_error: 45.5427\n",
      "Ronda de entrenamiento 13 completada.\n",
      "4/4 [==============================] - 0s 4ms/step - loss: 3425.3652 - mean_absolute_error: 44.8211\n",
      "Ronda de entrenamiento 14 completada.\n",
      "4/4 [==============================] - 0s 4ms/step - loss: 3370.6357 - mean_absolute_error: 44.1950\n",
      "Ronda de entrenamiento 15 completada.\n",
      "4/4 [==============================] - 0s 5ms/step - loss: 3342.2000 - mean_absolute_error: 43.5798\n",
      "Ronda de entrenamiento 16 completada.\n",
      "4/4 [==============================] - 0s 5ms/step - loss: 3317.5991 - mean_absolute_error: 42.8961\n",
      "Ronda de entrenamiento 17 completada.\n",
      "4/4 [==============================] - 0s 5ms/step - loss: 3299.1687 - mean_absolute_error: 42.2050\n",
      "Ronda de entrenamiento 18 completada.\n",
      "4/4 [==============================] - 0s 4ms/step - loss: 3275.6653 - mean_absolute_error: 41.6092\n",
      "Ronda de entrenamiento 19 completada.\n",
      "4/4 [==============================] - 0s 5ms/step - loss: 3247.6855 - mean_absolute_error: 40.9775\n",
      "Ronda de entrenamiento 20 completada.\n"
     ]
    }
   ],
   "source": [
    "federated_algorithm = tff.templates.IterativeProcess(initialize_fn, next_fn)\n",
    "x = np.linspace(-10, 10, 100).reshape(-1, 1)\n",
    "y = fn(x)\n",
    "\n",
    "server_state = federated_algorithm.initialize()\n",
    "for i in range(1, ROUNDS + 1):\n",
    "    server_state = federated_algorithm.next(server_state, train)\n",
    "    keras_model = create_keras_model(server_state)\n",
    "    keras_model.evaluate(x, y)\n",
    "    print(f\"Ronda de entrenamiento {i} completada.\")"
   ]
  },
  {
   "cell_type": "code",
   "execution_count": null,
   "metadata": {
    "colab": {
     "base_uri": "https://localhost:8080/",
     "height": 447
    },
    "executionInfo": {
     "elapsed": 914,
     "status": "ok",
     "timestamp": 1736635933077,
     "user": {
      "displayName": "Alejandro Diez Bermejo",
      "userId": "17100791736681062169"
     },
     "user_tz": -60
    },
    "id": "kheVHxcivEWa",
    "outputId": "301a4fc0-d5be-4cc7-8f12-0520e6d38d7d"
   },
   "outputs": [
    {
     "name": "stdout",
     "output_type": "stream",
     "text": [
      "4/4 [==============================] - 0s 3ms/step\n"
     ]
    },
    {
     "data": {
      "image/png": "[encoded data removed]",
      "text/plain": [
       "<Figure size 640x480 with 1 Axes>"
      ]
     },
     "metadata": {},
     "output_type": "display_data"
    }
   ],
   "source": [
    "X = np.linspace(-10, 10, 100).reshape(-1, 1)\n",
    "y = fn(X)\n",
    "keras_model = create_keras_model(server_state)\n",
    "y_1 = keras_model.predict(X.reshape(-1, 1))\n",
    "\n",
    "\n",
    "plt.plot(X, y, color=\"blue\")\n",
    "plt.plot(X, y_1, color=\"red\")\n",
    "plt.show()"
   ]
  }
 ],
 "metadata": {
  "accelerator": "TPU",
  "colab": {
   "collapsed_sections": [
    "_F2Yj7ZU5euD",
    "-mKmZFrN7kO3",
    "mT4ITUDN0KxZ",
    "w3lsW4Hfcipu",
    "JN2LCQ4e6uyl"
   ],
   "gpuType": "V28",
   "provenance": []
  },
  "kernelspec": {
   "display_name": "Python 3",
   "name": "python3"
  },
  "language_info": {
   "name": "python"
  }
 },
 "nbformat": 4,
 "nbformat_minor": 0
}
